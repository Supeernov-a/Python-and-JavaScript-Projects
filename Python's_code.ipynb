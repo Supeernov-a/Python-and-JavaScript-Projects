{
  "nbformat": 4,
  "nbformat_minor": 0,
  "metadata": {
    "colab": {
      "provenance": []
    },
    "kernelspec": {
      "name": "python3",
      "display_name": "Python 3"
    },
    "language_info": {
      "name": "python"
    }
  },
  "cells": [
    {
      "cell_type": "markdown",
      "source": [
        "# Runge kutta 2 orden code"
      ],
      "metadata": {
        "id": "mtAdWUF77yBN"
      }
    },
    {
      "cell_type": "code",
      "execution_count": 3,
      "metadata": {
        "id": "YLgOxwWu223R"
      },
      "outputs": [],
      "source": [
        "# Define Libraries\n",
        "# ==============================================================================\n",
        "import math\n",
        "import numpy as np"
      ]
    },
    {
      "cell_type": "markdown",
      "source": [
        "Function to calculate numerically\n",
        "\\begin{equation}\n",
        "\\frac{dy}{dt}= t \\cdot sin(t)\n",
        "\\end{equation}\n",
        "\n",
        "Where  $t \\in [0,1]$ and $y_{t=0}=2$"
      ],
      "metadata": {
        "id": "yjOHjGi43TKW"
      }
    },
    {
      "cell_type": "code",
      "source": [
        "# Define the function  of differential equation\n",
        "# ==============================================================================\n",
        "def function(t,z):\n",
        "  return (t**2)*(math.cos(t))\n",
        "\n",
        "# Define important parameters\n",
        "ti = 0\n",
        "tf = 1\n",
        "h = 0.025\n",
        "z= 2\n",
        "\n",
        "# Construct Runge-Kutta's method\n",
        "# ==============================================================================\n",
        "for i in np.arange(ti, tf, h):\n",
        "  k1 = function(i,z)\n",
        "  z1 = i+(2/3)*h\n",
        "  z2 = z+(2/3)*h*k1\n",
        "  k2 = function( z1, z2)\n",
        "  z= z+ h*(0.5*k1+0.75*k2)\n",
        "print(z)"
      ],
      "metadata": {
        "colab": {
          "base_uri": "https://localhost:8080/"
        },
        "id": "d0Ou07z425kB",
        "outputId": "47ac769b-c228-4fc0-8731-545b746595d3"
      },
      "execution_count": 4,
      "outputs": [
        {
          "output_type": "stream",
          "name": "stdout",
          "text": [
            "2.297232052323882\n"
          ]
        }
      ]
    },
    {
      "cell_type": "markdown",
      "source": [
        "# Implement manually  a linear regression model"
      ],
      "metadata": {
        "id": "V1P9YZw2-MuL"
      }
    },
    {
      "cell_type": "code",
      "source": [
        "import  numpy as np\n",
        "\n",
        "# f = w*x\n",
        "#===============================================================================\n",
        "\n",
        "x = np.array([1, 2, 3, 4,5, 6 ,7],dtype = np.float32)\n",
        "y = np.array([2, 4, 6, 8,10, 12, 14], dtype = np.float32)\n",
        "\n",
        "# Initialize the weight\n",
        "# ==============================================================================\n",
        "w = 0.0\n",
        "\n",
        "# model predictions\n",
        "# ==============================================================================\n",
        "def forward(x):\n",
        "   return  w*x\n",
        "\n",
        "# loss  = MSE\n",
        "# ==============================================================================\n",
        "def  loss(y,y_pred):\n",
        "  return ((y-y_pred)**2).mean()\n",
        "\n",
        "# Gradient\n",
        "# MSE = 1/N * (w*x-y)**2\n",
        "# dJ/ dw = 1/N 2x(w*x-y)\n",
        "# ==============================================================================\n",
        "def gradient(x,y,y_pred):\n",
        "  return np.dot(2*x, y_pred-y).mean()\n",
        "\n",
        "\n",
        "print(f\"Prediction before training: f(10) = {forward(10):.3f}\")\n",
        "\n",
        "#Training\n",
        "# ==============================================================================\n",
        "learning_rate = 0.001\n",
        "n_iters = 15\n",
        "\n",
        "for epoch in range(n_iters):\n",
        "  # prediction\n",
        "  y_pred = forward(x)\n",
        "\n",
        "  # loss\n",
        "  l = loss(y,y_pred)\n",
        "\n",
        "  # gradient\n",
        "  dw = gradient(x,y,y_pred)\n",
        "\n",
        "  # update weights\n",
        "  w -= learning_rate*dw\n",
        "\n",
        "  if epoch % 1 == 0:\n",
        "      print(f'epoch {epoch+1}: w = {w:.3f}, loss = {l:.8f}')\n",
        "\n",
        "\n",
        "print(f'Prediction after training : f(10) = {forward(10):.3f}')"
      ],
      "metadata": {
        "colab": {
          "base_uri": "https://localhost:8080/"
        },
        "id": "U5Q5zwzz-LfL",
        "outputId": "7928d645-09ea-4b14-85cb-b36678b0ed26"
      },
      "execution_count": 15,
      "outputs": [
        {
          "output_type": "stream",
          "name": "stdout",
          "text": [
            "Prediction before training: f(10) = 0.000\n",
            "epoch 1: w = 0.560, loss = 80.00000000\n",
            "epoch 2: w = 0.963, loss = 41.47199631\n",
            "epoch 3: w = 1.254, loss = 21.49908638\n",
            "epoch 4: w = 1.463, loss = 11.14512444\n",
            "epoch 5: w = 1.613, loss = 5.77763367\n",
            "epoch 6: w = 1.721, loss = 2.99512482\n",
            "epoch 7: w = 1.799, loss = 1.55267227\n",
            "epoch 8: w = 1.856, loss = 0.80490625\n",
            "epoch 9: w = 1.896, loss = 0.41726357\n",
            "epoch 10: w = 1.925, loss = 0.21630910\n",
            "epoch 11: w = 1.946, loss = 0.11213461\n",
            "epoch 12: w = 1.961, loss = 0.05813075\n",
            "epoch 13: w = 1.972, loss = 0.03013491\n",
            "epoch 14: w = 1.980, loss = 0.01562194\n",
            "epoch 15: w = 1.986, loss = 0.00809844\n",
            "Prediction after training : f(10) = 19.855\n"
          ]
        }
      ]
    },
    {
      "cell_type": "markdown",
      "source": [
        "# Convert a number to string"
      ],
      "metadata": {
        "id": "cuCo-ZMpVhcp"
      }
    },
    {
      "cell_type": "code",
      "source": [
        "# This code\n",
        "def number_to_string(argument):\n",
        "    match argument:\n",
        "        case \"0\":\n",
        "            return \"zero\"\n",
        "        case \"1\":\n",
        "            return \"one\"\n",
        "        case \"2\":\n",
        "            return \"two\"\n",
        "        case \"3\":\n",
        "            return \"three\"\n",
        "        case \"4\":\n",
        "            return \"four\"\n",
        "        case \"5\":\n",
        "            return \"five\"\n",
        "        case \"6\":\n",
        "            return \"six\"\n",
        "        case \"7\":\n",
        "            return \"seven\"\n",
        "        case \"8\":\n",
        "            return \"eight\"\n",
        "        case \"9\":\n",
        "            return \"nine\"\n",
        "number = input(\"Introduce a number: \")\n",
        "def convert(number):\n",
        "  conversion = []\n",
        "  for i in number:\n",
        "    conversion.append(number_to_string(i))\n",
        "  return conversion\n",
        "convert(number)"
      ],
      "metadata": {
        "colab": {
          "base_uri": "https://localhost:8080/"
        },
        "id": "etYePOZtH7NZ",
        "outputId": "2e6f7a04-bd20-4962-c714-9293cbb7ac4d"
      },
      "execution_count": 20,
      "outputs": [
        {
          "name": "stdout",
          "output_type": "stream",
          "text": [
            "Introduce a number: 2548\n"
          ]
        },
        {
          "output_type": "execute_result",
          "data": {
            "text/plain": [
              "['two', 'five', 'four', 'eight']"
            ]
          },
          "metadata": {},
          "execution_count": 20
        }
      ]
    },
    {
      "cell_type": "code",
      "source": [],
      "metadata": {
        "id": "wViSDDmCV3Ew"
      },
      "execution_count": null,
      "outputs": []
    }
  ]
}